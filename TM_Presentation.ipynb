{
 "cells": [
  {
   "cell_type": "markdown",
   "id": "14b48af2-1d1d-41fd-9568-c29afc5853f3",
   "metadata": {},
   "source": [
    "# Topic modeling 21.05.2021"
   ]
  },
  {
   "cell_type": "markdown",
   "id": "97c8fb3c-4da0-4b3e-9728-0ac73a70540c",
   "metadata": {},
   "source": [
    "#### План на сегодня:\n",
    "- Постановка задачи на сегодня\n",
    "- Что мы будем использовать и какие есть альтернативы\n",
    "- Что такое тематическое моделирование\n",
    "- Какие шаги нужно предпринять\n",
    "- Предобработка текста\n",
    "    - зачем это нужно\n",
    "    - лемматизация/стемминг\n",
    "    - векторизация\n",
    "- Как устроенно тематическое моделирование на примере Latent Semantic Analysis\n",
    "- Оценка качества\n",
    "- Практика на примере sklearn и роспотребнадзора\n",
    "    - Предобработка текста\n",
    "    - Построение моделей\n",
    "    - Объекты моделей\n",
    "    - Оценка тем\n",
    "- Визуализация"
   ]
  },
  {
   "cell_type": "markdown",
   "id": "d443e0f0-21e5-4992-a5b2-6d4404948006",
   "metadata": {},
   "source": [
    "---"
   ]
  },
  {
   "cell_type": "markdown",
   "id": "f0fe98a7-8595-4136-95f0-f71bfa4d5766",
   "metadata": {},
   "source": [
    "## Постановка задачи на сегодня"
   ]
  },
  {
   "cell_type": "markdown",
   "id": "238fcd3c-c5e8-4657-9ca3-c4214222d5a2",
   "metadata": {},
   "source": [
    "Наша цель оценить на, жалются люди в Роспотреб надзор. \n",
    "<pre>\n",
    "https://zpp.rospotrebnadzor.ru/Forum/Appeals/\n",
    "</pre>\n",
    "\n",
    "При этом нам нельзя читать \"вручную\". Нам хочется, посмотреть на \"график тем\"."
   ]
  },
  {
   "cell_type": "markdown",
   "id": "247382f7-d792-4ddc-9ba0-bb20f630ac22",
   "metadata": {},
   "source": [
    "---"
   ]
  },
  {
   "cell_type": "markdown",
   "id": "41084824-586f-4c50-aa3f-831c6d9642a8",
   "metadata": {},
   "source": [
    "## Что мы будем использовать и какие есть альтернативы"
   ]
  },
  {
   "cell_type": "markdown",
   "id": "40f20e3e-2cd2-4d43-b9eb-514678059df3",
   "metadata": {},
   "source": [
    "Мы будем использовать:\n",
    "- Пакеты\n",
    "    - sklearn\n",
    "    - spacy\n",
    "- Модели:\n",
    "    - Latent Semantic Analysis\n",
    "    - Non-Negative Matrix Factorization\n",
    "    - Latent Dirichlet Allocation\n",
    "- Визуализация:\n",
    "    - matplotlib\n",
    "- Оценка моделей:\n",
    "    - вручную\n",
    "\n",
    "Что мы **не** будем сегодня использовать (но обязательно посмотрите сами):\n",
    "- Пакеты:\n",
    "    - gensim\n",
    "    - bigArtm\n",
    "- Модели:\n",
    "    - Mallet\n",
    "    - Artm\n",
    "    - HDP\n",
    "    - PLSA\n",
    "- Визуализация:\n",
    "    - pyLDAviz\n",
    "    - plotly\n",
    "    - и многое другое\n",
    "- Оценка моделей:\n",
    "    - perplexity \n",
    "    - UCI\n",
    "    - UMass\n",
    "  \n",
    "  \n",
    "\n",
    "  \n"
   ]
  },
  {
   "cell_type": "markdown",
   "id": "b8d018da-2853-4026-8e3f-f0d96c55ae3a",
   "metadata": {},
   "source": [
    "Зависимости для сегодняшнего занятия:"
   ]
  },
  {
   "cell_type": "code",
   "execution_count": 23,
   "id": "72387f6d-7b1d-4993-baf6-30c99a9e1438",
   "metadata": {},
   "outputs": [
    {
     "name": "stdout",
     "output_type": "stream",
     "text": [
      "bs4                      0.0.1\n",
      "matplotlib               3.3.4\n",
      "numpy                    1.20.3\n",
      "pandas                   1.2.4\n",
      "requests                 2.25.1\n",
      "requests-oauthlib        1.3.0\n",
      "sklearn                  0.0\n",
      "spacy                    3.0.6\n",
      "spacy-legacy             3.0.5\n",
      "tqdm                     4.60.0\n",
      "umap-learn               0.5.1\n"
     ]
    }
   ],
   "source": [
    "!pip list | grep \"requests\\|bs4\\|tqdm\\|spacy\\|sklearn\\|matplotlib\\|umap\\|pandas\\|numpy\""
   ]
  },
  {
   "cell_type": "markdown",
   "id": "349674ec-640f-4225-b742-52abeba5ff48",
   "metadata": {},
   "source": [
    "## Что такое тематическое моделирование"
   ]
  },
  {
   "cell_type": "markdown",
   "id": "21bf1230-0e72-4901-b477-9f64613058e0",
   "metadata": {},
   "source": [
    "Тематическое моделирование - это вид машинного обучения без учителя (Unsupervised learning). Это означает, у вас есть только корпус документов **(X)**, но нет меток **(Y)**.  "
   ]
  },
  {
   "cell_type": "markdown",
   "id": "4cf03270-60e3-4509-b428-e2a2d2042816",
   "metadata": {},
   "source": [
    "![](1.png)"
   ]
  },
  {
   "cell_type": "markdown",
   "id": "9dd64a61-4133-4211-aa5b-4aaabb15cfe3",
   "metadata": {},
   "source": [
    "*Цель тематического моделирование* - выделить \"топики\" в документах. \n",
    "\n",
    "*Топик* - это абстракная сущность, которая представлена нам в виде набора слов. \n",
    "\n",
    "*Наша цель* - из корпуса текстов выделить темы, которые там представлены, и каждому документу сопоставить тему. \n",
    "\n",
    "*Корпус* - это набор текстов.\n",
    "\n",
    "*Документ* - это отдельный текст. Дальше мы будем придерживаться этой терминологии."
   ]
  },
  {
   "cell_type": "markdown",
   "id": "ec9d524b-ffe4-4d40-a384-524023e7982a",
   "metadata": {},
   "source": [
    "## Какие шаги нужно предпринять"
   ]
  },
  {
   "cell_type": "markdown",
   "id": "d64a9f45-5fb1-4cef-a57f-bcb28f51a168",
   "metadata": {},
   "source": [
    "![](2.png)"
   ]
  },
  {
   "cell_type": "markdown",
   "id": "c73feebf-0558-4403-ad01-d5e1f52f76ef",
   "metadata": {},
   "source": [
    "1) Найти и скачать данные.\n",
    "2) Предобработка данных. \n",
    "3) Построение модели\n",
    "4) Оценка результатов"
   ]
  },
  {
   "cell_type": "markdown",
   "id": "e5e0cd40-437b-4677-afcf-175957d07388",
   "metadata": {},
   "source": [
    "### Найти и скачать данные"
   ]
  },
  {
   "cell_type": "code",
   "execution_count": 3,
   "id": "6beaa845-04dc-4f16-a3a5-77a65e01d312",
   "metadata": {},
   "outputs": [],
   "source": [
    "import requests\n",
    "from bs4 import BeautifulSoup \n",
    "import time\n",
    "from urllib.parse import urlparse, urljoin\n",
    "from tqdm.notebook import tqdm\n",
    "\n",
    "import pickle "
   ]
  },
  {
   "cell_type": "code",
   "execution_count": 37,
   "id": "06c7e378-8c05-4521-be23-a7b5c08006de",
   "metadata": {},
   "outputs": [
    {
     "data": {
      "application/vnd.jupyter.widget-view+json": {
       "model_id": "1bf4cf8298354335b722e501a2cc9753",
       "version_major": 2,
       "version_minor": 0
      },
      "text/plain": [
       "Pages:   0%|          | 0/199 [00:00<?, ?it/s]"
      ]
     },
     "metadata": {},
     "output_type": "display_data"
    }
   ],
   "source": [
    "## найти id каждого вопроса на страницах\n",
    "page = 1\n",
    "main_url = 'https://zpp.rospotrebnadzor.ru/Forum/Appeals/AjaxindexList?page={page}&searchtext=&categories=[]'\n",
    "\n",
    "def ids_from_page(soup):\n",
    "    return [i.get('href') for i  in soup.findAll('a', {'class':'appeal-title-link'})]\n",
    "    \n",
    "urls = []\n",
    "for page in tqdm(range(1, 200), desc='Pages'):\n",
    "    time.sleep(0.5)\n",
    "    res = requests.get(main_url.format(page=page))  \n",
    "    soup = BeautifulSoup(res.text)\n",
    "    urls.extend(ids_from_page(soup))"
   ]
  },
  {
   "cell_type": "code",
   "execution_count": 54,
   "id": "d5298654-146d-4fee-be3f-8c02d3a3dfa4",
   "metadata": {},
   "outputs": [
    {
     "data": {
      "application/vnd.jupyter.widget-view+json": {
       "model_id": "1521513628b247d6b634072c9cf6f94d",
       "version_major": 2,
       "version_minor": 0
      },
      "text/plain": [
       "Pages:   0%|          | 0/995 [00:00<?, ?it/s]"
      ]
     },
     "metadata": {},
     "output_type": "display_data"
    }
   ],
   "source": [
    "## имея id запросов достанем тексты на страницах\n",
    "domain = 'https://zpp.rospotrebnadzor.ru'\n",
    "\n",
    "def get_text_page_question(soup):\n",
    "    return soup.findAll('p', {'class':'appeal-details-message'})[0].text\n",
    "def get_text_page_answer(soup):\n",
    "    return soup.findAll('p', {'class':'appeal-comments-message'})[0].text\n",
    "\n",
    "question = []\n",
    "answers = []\n",
    "\n",
    "for url in tqdm(urls, desc='Pages'):\n",
    "    time.sleep(0.5)\n",
    "    res = requests.get(urljoin(domain, url))  \n",
    "    soup = BeautifulSoup(res.text)\n",
    "    \n",
    "    question.append(get_text_page_question(soup))\n",
    "    try:\n",
    "        answers.append(get_text_page_answer(soup))\n",
    "    except:\n",
    "        answers.append('No answer')"
   ]
  },
  {
   "cell_type": "code",
   "execution_count": 55,
   "id": "61503f74-cad2-420d-8d75-c8ee8e0f3295",
   "metadata": {},
   "outputs": [],
   "source": [
    "# сохранить в виде сериализованного объекта\n",
    "with open('qa_rospotreb_nadzor', 'wb') as f:\n",
    "    pickle.dump((question, answers), f)"
   ]
  },
  {
   "cell_type": "code",
   "execution_count": 6,
   "id": "71270a3e-749f-4d5a-b49c-ca3ae0997c87",
   "metadata": {},
   "outputs": [],
   "source": [
    "## подгрузить сериализованый объект\n",
    "import pickle \n",
    "with open('./LDA_2021/qa_rospotreb_nadzor', 'rb') as f:\n",
    "    question, answers = pickle.load(f)"
   ]
  },
  {
   "cell_type": "code",
   "execution_count": 28,
   "id": "122ac2b2-fd71-40c4-9118-766e133265e6",
   "metadata": {},
   "outputs": [
    {
     "name": "stdout",
     "output_type": "stream",
     "text": [
      "Q: Здравствуйте! Прошу разобраться с компанией Сити Мобил, лешить их лицензии т. к водители грубияны хамы произшошла ситуация вызвали такси в аэропорт Шереметьево с города Одинцово, водитель не захотел ехать устроил скандал угродал на полдороги и высадил нас на Можайском шоссе около дома 45 прям на трассе и сказал как хотите так и добирайтесь он был в неадыкваьном состоянии. В результате опоздыаали на рейс и еле уехали с трассы. На каком основании нам высадили из такси силой. \n",
      "\n",
      "A: Добрый день! В данной ситуации заявление,фото/аудио/видио направить в ГУ МВД РФ по Московской области и Прокуратуру Московской области. Данный вопрос не входит в полномочия Роспотребнадзора\n"
     ]
    }
   ],
   "source": [
    "## посмотрим, что скачалось\n",
    "N = 6\n",
    "print('Q:', question[N])\n",
    "print()\n",
    "print('A:', answers[N])"
   ]
  },
  {
   "cell_type": "markdown",
   "id": "225772f6-fd8f-424a-9ae3-94161bf6cce0",
   "metadata": {},
   "source": [
    "### Предобработка данных"
   ]
  },
  {
   "cell_type": "markdown",
   "id": "f1c531f4-4ab8-4954-adbd-6245affac34e",
   "metadata": {},
   "source": [
    "Типичная предобработка данных включает в себя следующие шаги:\n",
    "- Токенизация\n",
    "- Удаление стоп слов\n",
    "- Стемминг/лемматизация\n",
    "- Векторизация"
   ]
  },
  {
   "cell_type": "markdown",
   "id": "571981b9-0c44-442f-af99-4b932520e09a",
   "metadata": {},
   "source": [
    "#### Токенизация\n",
    "\n",
    "Разбиние изначально целого текста, на составные части - токены. \n",
    "\n",
    "Токеном может быть: \n",
    "- Предложение\n",
    "- Слово\n",
    "- Символ\n",
    "- Документ\n",
    "- Биграммы, триграммы и пр.\n",
    "\n",
    "Это гранулярность нашего интереса"
   ]
  },
  {
   "cell_type": "markdown",
   "id": "a32e58a4-d3cd-4946-a8d7-a23b39965bdc",
   "metadata": {},
   "source": [
    "Пример на примере пакета spacy:"
   ]
  },
  {
   "cell_type": "code",
   "execution_count": 53,
   "id": "07bcd86a-146f-4f9d-a3df-775ee6b5db0d",
   "metadata": {},
   "outputs": [],
   "source": [
    "# !pip uninstall spacy\n",
    "# !pip install -U spacy\n",
    "# !python -m spacy download ru_core_news_sm\n",
    "\n",
    "import spacy ## общий пакет, где лежит весь функционал\n",
    "import ru_core_news_sm ## натренированные модели на русском\n",
    "import string ## здесь возомьм пунктуацию\n",
    "import nltk # удобный пакет для всякой работы с текстом"
   ]
  },
  {
   "cell_type": "code",
   "execution_count": 126,
   "id": "81c6b561-dc93-41bf-b636-434962b7b486",
   "metadata": {},
   "outputs": [
    {
     "name": "stdout",
     "output_type": "stream",
     "text": [
      "Здравствуйте! Я Баимова Светлана Игоревна, открыла личевой счет в Газпромбанке, где я получаю детские пособия. Но Газпромбанк у меня удерживают 50% и отправляют пристовам. Вот смотрите!!! И арест с карты не снимают чтоб я снила детские. На карту мир. \n"
     ]
    }
   ],
   "source": [
    "text = question[10]\n",
    "print(text)"
   ]
  },
  {
   "cell_type": "code",
   "execution_count": 127,
   "id": "03ce5bdd-515d-4465-80f7-fe8b86b4cbbc",
   "metadata": {},
   "outputs": [
    {
     "data": {
      "text/plain": [
       "Здравствуйте! Я Баимова Светлана Игоревна, открыла личевой счет в Газпромбанке, где я получаю детские пособия. Но Газпромбанк у меня удерживают 50% и отправляют пристовам. Вот смотрите!!! И арест с карты не снимают чтоб я снила детские. На карту мир. "
      ]
     },
     "execution_count": 127,
     "metadata": {},
     "output_type": "execute_result"
    }
   ],
   "source": [
    "nlp = ru_core_news_sm.load() ## умная \"обертка\" для каждого текста\n",
    "doc = nlp(text)\n",
    "doc"
   ]
  },
  {
   "cell_type": "code",
   "execution_count": 47,
   "id": "b5107d02-4229-40e8-99e7-497e2aa3499e",
   "metadata": {},
   "outputs": [],
   "source": [
    "tokenized1 = [token for token in doc] # первый способ\n",
    "tokenized2 = text.split(' ') # второй способ"
   ]
  },
  {
   "cell_type": "markdown",
   "id": "63c04884-2d0d-4f7f-975e-ccc5e2a77627",
   "metadata": {},
   "source": [
    "В чем их отличия?"
   ]
  },
  {
   "cell_type": "code",
   "execution_count": 54,
   "id": "f2c2967c-eb0b-4e09-8e09-d115038735fd",
   "metadata": {},
   "outputs": [],
   "source": [
    "## еще способы\n",
    "tokenizer1 = nltk.tokenize.WhitespaceTokenizer()\n",
    "tokenizer2 = nltk.tokenize.TreebankWordTokenizer()\n",
    "tokenizer3 = nltk.tokenize.WordPunctTokenizer()"
   ]
  },
  {
   "cell_type": "markdown",
   "id": "783aa9dd-7695-4789-be50-5271b956edf1",
   "metadata": {},
   "source": [
    "#### Удаление стоп слов\n",
    "\n",
    "Стоп слова - это слова, которые мешают в анализе. К примеру слишком популярные слова или наоборот слишком редкие.\n",
    "Также, часто к стоп словам относят:\n",
    "- знаки препинания\n",
    "- специальные символы\n",
    "- иностранные язык\n",
    "- цифры"
   ]
  },
  {
   "cell_type": "code",
   "execution_count": 55,
   "id": "48ff4110-8b23-403c-947a-acedea12e51c",
   "metadata": {
    "collapsed": true,
    "jupyter": {
     "outputs_hidden": true
    },
    "tags": []
   },
   "outputs": [
    {
     "data": {
      "text/plain": [
       "[Здравствуйте,\n",
       " ,,\n",
       " помогите,\n",
       " пожалуйста,\n",
       " разобраться,\n",
       " в,\n",
       " следующей,\n",
       " ситуации,\n",
       " .,\n",
       " Купили,\n",
       " телевизор,\n",
       " в,\n",
       " магазине,\n",
       " ДНС,\n",
       " ,,\n",
       " на,\n",
       " следующий,\n",
       " день,\n",
       " оказалось,\n",
       " ,,\n",
       " что,\n",
       " невозможно,\n",
       " настроить,\n",
       " каналы,\n",
       " ,,\n",
       " позвонили,\n",
       " на,\n",
       " горячую,\n",
       " линию,\n",
       " ,,\n",
       " нам,\n",
       " предложили,\n",
       " самостоятельно,\n",
       " ехать,\n",
       " в,\n",
       " сервисный,\n",
       " центр,\n",
       " .,\n",
       " 11,\n",
       " мая,\n",
       " телевизор,\n",
       " сдали,\n",
       " в,\n",
       " магазин,\n",
       " на,\n",
       " экспертизу,\n",
       " ,,\n",
       " обменять,\n",
       " или,\n",
       " вернуть,\n",
       " деньги,\n",
       " в,\n",
       " магазине,\n",
       " отказались,\n",
       " ,,\n",
       " сославшись,\n",
       " на,\n",
       " то,\n",
       " ,,\n",
       " что,\n",
       " это,\n",
       " технически,\n",
       " сложный,\n",
       " товар,\n",
       " .,\n",
       " Прав,\n",
       " ли,\n",
       " продавец,\n",
       " ?]"
      ]
     },
     "execution_count": 55,
     "metadata": {},
     "output_type": "execute_result"
    }
   ],
   "source": [
    "from spacy.lang.ru.stop_words import STOP_WORDS # стоп слова\n",
    "[token for token in doc if token not in STOP_WORDS]"
   ]
  },
  {
   "cell_type": "markdown",
   "id": "d8b16a7e-08a9-472c-8016-cdfc67d19e52",
   "metadata": {},
   "source": [
    "#### Стемминг/лемматизация\n",
    "\n",
    "Оба слова означают приведение определенного слова к его основе (лемме). Они различаются только подходом.\n",
    "\n",
    "Стемминг - это алгоритм, которые по опредленным правилам отсекает ненужные буквы в слове\n",
    "Лемматизация - это метод, которые работает на большой базе словаре.\n",
    "\n",
    "Выход у обоиз методов одинаковый. \n"
   ]
  },
  {
   "cell_type": "markdown",
   "id": "607cb3fd-388a-4bdd-83ed-4b52b8d4ff52",
   "metadata": {},
   "source": [
    "![](porterstemmer.png)"
   ]
  },
  {
   "cell_type": "code",
   "execution_count": 56,
   "id": "f72b7ac9-14a7-4c4b-bf73-12061e27a385",
   "metadata": {},
   "outputs": [],
   "source": [
    "## Варинаты nltk\n",
    "stemmer = nltk.stem.PorterStemmer()\n",
    "#\" \".join(stemmer.stem(token) for token in tokens)\n",
    "lemmatizer = nltk.stem.WordNetLemmatizer()\n",
    "#\" \".join(lemmatizer.lemmatize(token) for token in tokens)"
   ]
  },
  {
   "cell_type": "code",
   "execution_count": 64,
   "id": "d22ffcb5-44ca-4eb0-8853-2e8b41ef1178",
   "metadata": {},
   "outputs": [
    {
     "data": {
      "text/plain": [
       "'помочь'"
      ]
     },
     "execution_count": 64,
     "metadata": {},
     "output_type": "execute_result"
    }
   ],
   "source": [
    "## spacy \n",
    "doc = nlp(text)\n",
    "doc[2].lemma_"
   ]
  },
  {
   "cell_type": "markdown",
   "id": "d0cbf315-ab8a-428a-804b-fc302515ec2a",
   "metadata": {},
   "source": [
    "##### Соберем все вместе:"
   ]
  },
  {
   "cell_type": "code",
   "execution_count": 69,
   "id": "fce22b63-e93e-4ffa-855b-9fe7fa7a9366",
   "metadata": {},
   "outputs": [
    {
     "data": {
      "text/plain": [
       "'здравствовать баимов светлана игоревич открыть личевой счёт газпромбанк где получать детский пособие газпромбанк удерживать 50 отправлять пристовам смотреть арест карта снимать чтоб снила детский карта мир'"
      ]
     },
     "execution_count": 69,
     "metadata": {},
     "output_type": "execute_result"
    }
   ],
   "source": [
    "# Parser for reviews\n",
    "punctuations = string.punctuation\n",
    "stopwords = STOP_WORDS\n",
    "\n",
    "def spacy_processor(sentence):\n",
    "    mytokens = nlp(sentence)\n",
    "    mytokens = [ word.lemma_.lower().strip() for word in mytokens ]\n",
    "    mytokens = [ word for word in mytokens if word not in stopwords and word not in punctuations ]\n",
    "    mytokens = \" \".join([i for i in mytokens])\n",
    "    return mytokens\n",
    "spacy_processor(text)"
   ]
  },
  {
   "cell_type": "code",
   "execution_count": 71,
   "id": "70c38b89-87f4-4125-8aba-8279e700a74d",
   "metadata": {},
   "outputs": [
    {
     "data": {
      "application/vnd.jupyter.widget-view+json": {
       "model_id": "011dfab5ca564749a81f5cd9f9776b31",
       "version_major": 2,
       "version_minor": 0
      },
      "text/plain": [
       "  0%|          | 0/995 [00:00<?, ?it/s]"
      ]
     },
     "metadata": {},
     "output_type": "display_data"
    }
   ],
   "source": [
    "text_data = [spacy_processor(text) for text in tqdm(question)]"
   ]
  },
  {
   "cell_type": "markdown",
   "id": "d7431d3a-49da-4ee5-9e36-96f0b10ae7bd",
   "metadata": {},
   "source": [
    "##### Как еще можно почистить тексты:"
   ]
  },
  {
   "cell_type": "code",
   "execution_count": 68,
   "id": "3be72aaf-e06a-40c9-9016-d424962a65de",
   "metadata": {},
   "outputs": [
    {
     "data": {
      "text/html": [
       "<span class=\"tex2jax_ignore\"><div class=\"entities\" style=\"line-height: 2.5; direction: ltr\">Здравствуйте! Я \n",
       "<mark class=\"entity\" style=\"background: #ddd; padding: 0.45em 0.6em; margin: 0 0.25em; line-height: 1; border-radius: 0.35em;\">\n",
       "    Баимова\n",
       "    <span style=\"font-size: 0.8em; font-weight: bold; line-height: 1; border-radius: 0.35em; vertical-align: middle; margin-left: 0.5rem\">PER</span>\n",
       "</mark>\n",
       " \n",
       "<mark class=\"entity\" style=\"background: #ddd; padding: 0.45em 0.6em; margin: 0 0.25em; line-height: 1; border-radius: 0.35em;\">\n",
       "    Светлана Игоревна\n",
       "    <span style=\"font-size: 0.8em; font-weight: bold; line-height: 1; border-radius: 0.35em; vertical-align: middle; margin-left: 0.5rem\">PER</span>\n",
       "</mark>\n",
       ", открыла личевой счет в \n",
       "<mark class=\"entity\" style=\"background: #7aecec; padding: 0.45em 0.6em; margin: 0 0.25em; line-height: 1; border-radius: 0.35em;\">\n",
       "    Газпромбанке\n",
       "    <span style=\"font-size: 0.8em; font-weight: bold; line-height: 1; border-radius: 0.35em; vertical-align: middle; margin-left: 0.5rem\">ORG</span>\n",
       "</mark>\n",
       ", где я получаю детские пособия. Но \n",
       "<mark class=\"entity\" style=\"background: #7aecec; padding: 0.45em 0.6em; margin: 0 0.25em; line-height: 1; border-radius: 0.35em;\">\n",
       "    Газпромбанк\n",
       "    <span style=\"font-size: 0.8em; font-weight: bold; line-height: 1; border-radius: 0.35em; vertical-align: middle; margin-left: 0.5rem\">ORG</span>\n",
       "</mark>\n",
       " у меня удерживают 50% и отправляют пристовам. Вот смотрите!!! И арест с карты не снимают чтоб я снила детские. На карту мир. </div></span>"
      ],
      "text/plain": [
       "<IPython.core.display.HTML object>"
      ]
     },
     "metadata": {},
     "output_type": "display_data"
    }
   ],
   "source": [
    "doc = nlp(text)\n",
    "spacy.displacy.render(doc, style='ent', jupyter=True)"
   ]
  },
  {
   "cell_type": "markdown",
   "id": "91b2998d-d900-46e3-822f-d9bfa32f8bbc",
   "metadata": {},
   "source": [
    "#### Векторизация\n",
    "\n",
    "Это процесс превращения текста в вектор. Главная цель максимально передать смысл предложения."
   ]
  },
  {
   "cell_type": "markdown",
   "id": "559eb99d-2f1d-43c2-8faa-5fce1600a190",
   "metadata": {},
   "source": [
    "![](bow.jpeg)"
   ]
  },
  {
   "cell_type": "markdown",
   "id": "ba5569d2-519a-49f5-b16f-45bc6f38961e",
   "metadata": {},
   "source": [
    "или так:"
   ]
  },
  {
   "cell_type": "markdown",
   "id": "249a9b8b-114e-4366-92f8-3be9f7856ede",
   "metadata": {},
   "source": [
    "![](tfidf.jpeg)"
   ]
  },
  {
   "cell_type": "markdown",
   "id": "b2dcecc2-0436-46b4-a2c4-d6c66e7bb60c",
   "metadata": {},
   "source": [
    "или даже так:"
   ]
  },
  {
   "cell_type": "markdown",
   "id": "4acd5987-020a-435b-9835-1687b892a88a",
   "metadata": {},
   "source": [
    "![](doc2vec.png)"
   ]
  },
  {
   "cell_type": "markdown",
   "id": "7811df4a-9b2d-4be7-a520-21d14fc7e9a3",
   "metadata": {},
   "source": [
    "Мы для простоты и надежности остановимся на первом варианте:"
   ]
  },
  {
   "cell_type": "code",
   "execution_count": 72,
   "id": "d0c9e1e0-118c-4a41-93f9-c9ad01b5f025",
   "metadata": {},
   "outputs": [],
   "source": [
    "from sklearn.feature_extraction.text import CountVectorizer\n",
    "# https://scikit-learn.org/stable/modules/generated/sklearn.feature_extraction.text.CountVectorizer.html\n",
    "\n",
    "vectorizer = CountVectorizer(ngram_range=(2,2), # биграммы\n",
    "                             max_df=20, # верхний порого встречаемости \n",
    "                             min_df=3, # нижний порого встречаемости\n",
    "                             max_features=5000) ## размер выходного вектора\n",
    "\n",
    "data_vectorized = vectorizer.fit_transform(text_data)"
   ]
  },
  {
   "cell_type": "code",
   "execution_count": 75,
   "id": "86e6a847-889c-4e0d-a783-292870726128",
   "metadata": {},
   "outputs": [
    {
     "data": {
      "text/plain": [
       "(1, 2309)"
      ]
     },
     "execution_count": 75,
     "metadata": {},
     "output_type": "execute_result"
    }
   ],
   "source": [
    "data_vectorized[0].todense().shape"
   ]
  },
  {
   "cell_type": "markdown",
   "id": "723fd8af-50d4-40ba-8ad9-b5ffddf89865",
   "metadata": {},
   "source": [
    "### Тематическое моделирование"
   ]
  },
  {
   "cell_type": "markdown",
   "id": "0fbb3ba3-f3e0-41e9-b55a-dad0f3b3bc74",
   "metadata": {},
   "source": [
    "Что у нас есть на входе:"
   ]
  },
  {
   "cell_type": "markdown",
   "id": "d6b03b4b-a6ae-4b38-b461-741eae2c98c7",
   "metadata": {},
   "source": [
    "![](4.png)"
   ]
  },
  {
   "cell_type": "code",
   "execution_count": 81,
   "id": "1284722f-2238-4721-9583-55fe33972675",
   "metadata": {},
   "outputs": [],
   "source": [
    "import pandas as pd\n",
    "pd.DataFrame(data_vectorized.todense(), \n",
    "             columns=vectorizer.get_feature_names())"
   ]
  },
  {
   "cell_type": "markdown",
   "id": "cae574e5-2c8b-442a-9d31-374b2ecf27e8",
   "metadata": {},
   "source": [
    "Что мы хотим получить:"
   ]
  },
  {
   "cell_type": "markdown",
   "id": "7760aaa3-2c57-4000-8453-8a542dcac3ad",
   "metadata": {},
   "source": [
    "![](5.png)"
   ]
  },
  {
   "cell_type": "markdown",
   "id": "7ae3228c-112f-4d4e-b3ad-4743d5f045aa",
   "metadata": {},
   "source": [
    "Что лежит в основе такого предобразования? То же, что в основании рекомендательных систем - матричное разложение. В случае вверху это SVD - singular value decomposition\n",
    "\n",
    "$$M = U \\times\\Sigma\\times V^T$$\n",
    "\n",
    "- $M$ doc-term матрица\n",
    "- $U$ doc-topic матрица\n",
    "- $\\Sigma$ topic-topic матрица\n",
    "- $V^T$ topic-term матрица"
   ]
  },
  {
   "cell_type": "markdown",
   "id": "4bebdd00-9b3e-4ddb-adfc-8ad1f8a50971",
   "metadata": {},
   "source": [
    "Еще пример:"
   ]
  },
  {
   "cell_type": "markdown",
   "id": "d5806abb-9b86-4ca9-adf4-2c64c8a27db8",
   "metadata": {},
   "source": [
    "![](init.png)"
   ]
  },
  {
   "cell_type": "markdown",
   "id": "f6d9fb0d-e79c-4ce9-b06d-12b2b856383c",
   "metadata": {},
   "source": [
    "![](decopm.png)"
   ]
  },
  {
   "cell_type": "markdown",
   "id": "f34c9826-83c8-4646-a5c4-30934dd0c587",
   "metadata": {},
   "source": [
    "![](deux.png)"
   ]
  },
  {
   "cell_type": "code",
   "execution_count": 82,
   "id": "f9958e09-41db-4bdc-b7ee-69f2f75bcc26",
   "metadata": {},
   "outputs": [
    {
     "name": "stdout",
     "output_type": "stream",
     "text": [
      "iteration: 1 of max_iter: 10\n",
      "iteration: 2 of max_iter: 10\n",
      "iteration: 3 of max_iter: 10\n",
      "iteration: 4 of max_iter: 10\n",
      "iteration: 5 of max_iter: 10\n",
      "iteration: 6 of max_iter: 10\n",
      "iteration: 7 of max_iter: 10\n",
      "iteration: 8 of max_iter: 10\n",
      "iteration: 9 of max_iter: 10\n",
      "iteration: 10 of max_iter: 10\n"
     ]
    }
   ],
   "source": [
    "from sklearn.decomposition import TruncatedSVD, LatentDirichletAllocation, NMF\n",
    "\n",
    "NUM_TOPICS = 10\n",
    "\n",
    "# Latent Semantic Indexing Model using Truncated SVD\n",
    "lsi = TruncatedSVD(n_components=NUM_TOPICS)\n",
    "data_lsi = lsi.fit_transform(data_vectorized)\n",
    "\n",
    "# Latent Dirichlet Allocation Model\n",
    "lda = LatentDirichletAllocation(n_components=NUM_TOPICS, \n",
    "                                max_iter=10, \n",
    "                                learning_method='online', \n",
    "                                verbose=True)\n",
    "data_lda = lda.fit_transform(data_vectorized)\n",
    "\n",
    "# Non-Negative Matrix Factorization Model\n",
    "nmf = NMF(n_components=NUM_TOPICS)\n",
    "data_nmf = nmf.fit_transform(data_vectorized)"
   ]
  },
  {
   "cell_type": "code",
   "execution_count": 85,
   "id": "bbab214f-8b45-473e-b657-fc41b507ae70",
   "metadata": {},
   "outputs": [
    {
     "data": {
      "text/plain": [
       "(995, 10)"
      ]
     },
     "execution_count": 85,
     "metadata": {},
     "output_type": "execute_result"
    }
   ],
   "source": [
    "data_lsi.shape"
   ]
  },
  {
   "cell_type": "code",
   "execution_count": 86,
   "id": "221fa97f-0638-4fb0-8395-df7d93546d02",
   "metadata": {},
   "outputs": [
    {
     "data": {
      "text/plain": [
       "(10, 2309)"
      ]
     },
     "execution_count": 86,
     "metadata": {},
     "output_type": "execute_result"
    }
   ],
   "source": [
    "lsi.components_.shape"
   ]
  },
  {
   "cell_type": "code",
   "execution_count": 93,
   "id": "b6815fd0-71fc-48fa-a3d4-87ecb44a2c48",
   "metadata": {},
   "outputs": [],
   "source": [
    "def print_topics(model, vectorizer, n_words=10):\n",
    "    for idx, topic in enumerate(model.components_):\n",
    "        print()\n",
    "        print(f'Topic {idx}:', [(vectorizer.get_feature_names()[i], topic[i])\n",
    "                        for i in topic.argsort()[:-n_words - 1:-1]]) "
   ]
  },
  {
   "cell_type": "code",
   "execution_count": 94,
   "id": "b2c310ab-72c4-4795-9931-042ef4678593",
   "metadata": {
    "collapsed": true,
    "jupyter": {
     "outputs_hidden": true
    },
    "tags": []
   },
   "outputs": [
    {
     "name": "stdout",
     "output_type": "stream",
     "text": [
      "\n",
      "Topic 0: [('tikets ru', 0.21991908417768286), ('компания аэрофлот', 0.1762905595583588), ('su555rasqag 202103050528', 0.1759352673421463), ('москва ираклион', 0.1759352673421463), ('ираклион москва', 0.1759352673421463), ('tickets ru', 0.13221769637495911), ('номер билет', 0.13195145050660972), ('202103050528 казань', 0.13195145050660972), ('2126 ираклион', 0.13195145050660972), ('москва казань', 0.13195145050660972)]\n",
      "\n",
      "Topic 1: [('февраль 2021', 0.31386380127971597), ('12 февраль', 0.15410212748516333), ('январь 2021', 0.1045359905026405), ('21 день', 0.1028267353036615), ('центр apple', 0.102809806923052), ('15 февраль', 0.10235037851749725), ('отправить москва', 0.10225927875675832), ('23 январь', 0.10225927875675832), ('аппарат находиться', 0.10225927875675832), ('аппарат снова', 0.10225927875675832)]\n",
      "\n",
      "Topic 2: [('краснодарский край', 0.5220503975058877), ('александр усольцев', 0.21380855459605422), ('17 12', 0.18493954883347533), ('15 03', 0.14654798619356094), ('ваш ведомство', 0.14622878251485522), ('нижестоящие подразделение', 0.14592191306575125), ('президент россия', 0.14592191306575125), ('прямой линия', 0.14592191306575125), ('подразделение ваш', 0.14592191306575125), ('усольцев краснодарский', 0.14592191306575125)]\n",
      "\n",
      "Topic 3: [('условие труд', 0.8453757820656608), ('рабочий место', 0.26238577976706917), ('кемеровский область', 0.246596527960601), ('федеральный закон', 0.20862818230978103), ('ст 26', 0.149006375069719), ('результат проведение', 0.14799109344211647), ('11 2020', 0.10518073793956878), ('30 03', 0.10299835235192252), ('санитарный врач', 0.056428542631471575), ('территориальный орган', 0.05201745452104715)]\n",
      "\n",
      "Topic 4: [('гк рф', 0.2552004024532587), ('продажа продукт', 0.23739344107747318), ('пункт статья', 0.2054580515875847), ('продукт питание', 0.19412026409084918), ('купля продажа', 0.177257917306614), ('426 гк', 0.15642843905807055), ('администратор магазин', 0.1545456425854938), ('санитарный врач', 0.14794137978181968), ('государственный санитарный', 0.1309710644178446), ('постановление правительство', 0.1278869570368594)]\n",
      "\n",
      "Topic 5: [('решить вопрос', 0.13737389905051708), ('товар вернуть', 0.13428176526068875), ('подписать договор', 0.13282313349411526), ('номер счёт', 0.13084506260165008), ('пытаться решить', 0.13083433544490766), ('день решить', 0.13076883732715402), ('условие нужный', 0.13021121540552813), ('ни слово', 0.13015871375042468), ('чуть упасть', 0.13005109892900582), ('группа товар', 0.13003968416271453)]\n",
      "\n",
      "Topic 6: [('санитарный врач', 0.33684575317133764), ('государственный санитарный', 0.29443915165344725), ('главный государственный', 0.2832773014222863), ('постановление главный', 0.2571858113857052), ('covid 19', 0.2251797975591912), ('врач рф', 0.21610363600634552), ('07 2020', 0.1501322303025007), ('россия гражданин', 0.13870519839572204), ('распространение covid', 0.12896218399992274), ('иностранный гражданин', 0.12533872346426156)]\n",
      "\n",
      "Topic 7: [('продажа продукт', 0.2543320145934785), ('продукт питание', 0.21150197275253682), ('пункт статья', 0.20894253803488927), ('426 гк', 0.15811094812890633), ('администратор магазин', 0.14329655910143546), ('гк рф', 0.1291599808430317), ('средство индивидуальный', 0.10349011874733563), ('индивидуальный защита', 0.10349011874733563), ('административный ответственность', 0.10025307806873666), ('осуществлять продажа', 0.09937761043720938)]\n",
      "\n",
      "Topic 8: [('отмена заказ', 0.23501780392058308), ('технический сбой', 0.1717595698956911), ('стоимость товар', 0.13304563920776802), ('гк рф', 0.1170132388053303), ('заказ отменить', 0.09530324389228954), ('цена товар', 0.08825657085661726), ('оплатить заказ', 0.08789960691777261), ('заказ сделать', 0.08623149824410582), ('рф ст', 0.08608026291392891), ('товар увеличиться', 0.08569228207514319)]\n",
      "\n",
      "Topic 9: [('жилой дом', 0.3803586382262921), ('отмена заказ', 0.16818563376934562), ('3684 21', 0.166951234017951), ('санпин 3684', 0.16482197123508024), ('воспитание обучение', 0.16205010015558943), ('земельный участок', 0.16028815762227974), ('оздоровление ребёнок', 0.1599573566276842), ('обучение отдых', 0.1599573566276842), ('ребёнок молодёжь', 0.1599573566276842), ('отдых оздоровление', 0.1599573566276842)]\n"
     ]
    }
   ],
   "source": [
    "print_topics(lsi, vectorizer)"
   ]
  },
  {
   "cell_type": "markdown",
   "id": "40578f4a-94ca-41a0-83a2-2aadf84057da",
   "metadata": {},
   "source": [
    "#### Можем ли мы использовать нашу модель для того, чтобы предсказывать?\n",
    "\n",
    "Конечно."
   ]
  },
  {
   "cell_type": "code",
   "execution_count": 104,
   "id": "8e154e39-2cef-4c56-8d79-00773bf86dba",
   "metadata": {},
   "outputs": [],
   "source": [
    "import numpy as np\n",
    "new_text = 'привет как дела'\n",
    "new_corpus = [new_text]\n",
    "\n",
    "new_vectorized = vectorizer.transform(new_corpus)"
   ]
  },
  {
   "cell_type": "code",
   "execution_count": 106,
   "id": "9d5c8c0d-3d32-4505-8ea8-9e910b155391",
   "metadata": {},
   "outputs": [
    {
     "data": {
      "text/plain": [
       "0"
      ]
     },
     "execution_count": 106,
     "metadata": {},
     "output_type": "execute_result"
    }
   ],
   "source": [
    "np.argmax(lsi.transform(new_vectorized))"
   ]
  },
  {
   "cell_type": "markdown",
   "id": "87b28c83-47e8-463f-997b-ca20926257ee",
   "metadata": {},
   "source": [
    "## Визуализация"
   ]
  },
  {
   "cell_type": "code",
   "execution_count": 107,
   "id": "89d693ef-4941-4566-9305-850babbf71b5",
   "metadata": {},
   "outputs": [],
   "source": [
    "import matplotlib.pyplot as plt\n",
    "from sklearn.manifold import TSNE\n",
    "import umap.umap_ as umap\n",
    "import random\n",
    "import pandas as pd\n",
    "\n",
    "number_of_colors = NUM_TOPICS\n",
    "\n",
    "reducer_umap = umap.UMAP(n_components=2, random_state=42)\n",
    "reducer_tsne = TSNE(n_components=2, random_state=42)\n",
    "\n",
    "reduced_umap = reducer_umap.fit_transform(data_vectorized)\n",
    "reduced_tsne = reducer_tsne.fit_transform(data_vectorized)"
   ]
  },
  {
   "cell_type": "code",
   "execution_count": 118,
   "id": "83273147-3548-4806-b038-d1d14df285da",
   "metadata": {},
   "outputs": [],
   "source": [
    "x_umap = reduced_umap.T[0]\n",
    "y_umap = reduced_umap.T[1]\n",
    "\n",
    "x_tsne = reduced_tsne.T[0]\n",
    "y_tsne = reduced_tsne.T[1]\n",
    "\n",
    "label = np.argmax(data_nmf, axis=1)\n",
    "\n",
    "color_map = dict(enumerate(['#'+''.join([random.choice('0123456789ABCDEF') for j in range(6)])\n",
    "             for i in range(number_of_colors)]))"
   ]
  },
  {
   "cell_type": "code",
   "execution_count": 119,
   "id": "68d80f52-d678-47af-a930-94b047fd30df",
   "metadata": {},
   "outputs": [],
   "source": [
    "source = pd.DataFrame({'x_umap': x_umap, \n",
    "                       'y_umap': y_umap,\n",
    "                       'x_tsne': x_tsne,\n",
    "                       'y_tsne': y_tsne,\n",
    "                       'topic': label\n",
    "                      })\n",
    "source['color'] = source.topic.map(color_map)"
   ]
  },
  {
   "cell_type": "code",
   "execution_count": 120,
   "id": "9d0d350d-6c83-412e-a587-86152c2f4e41",
   "metadata": {},
   "outputs": [
    {
     "data": {
      "text/html": [
       "<div>\n",
       "<style scoped>\n",
       "    .dataframe tbody tr th:only-of-type {\n",
       "        vertical-align: middle;\n",
       "    }\n",
       "\n",
       "    .dataframe tbody tr th {\n",
       "        vertical-align: top;\n",
       "    }\n",
       "\n",
       "    .dataframe thead th {\n",
       "        text-align: right;\n",
       "    }\n",
       "</style>\n",
       "<table border=\"1\" class=\"dataframe\">\n",
       "  <thead>\n",
       "    <tr style=\"text-align: right;\">\n",
       "      <th></th>\n",
       "      <th>x_umap</th>\n",
       "      <th>y_umap</th>\n",
       "      <th>x_tsne</th>\n",
       "      <th>y_tsne</th>\n",
       "      <th>topic</th>\n",
       "      <th>color</th>\n",
       "    </tr>\n",
       "  </thead>\n",
       "  <tbody>\n",
       "    <tr>\n",
       "      <th>0</th>\n",
       "      <td>7.631234</td>\n",
       "      <td>8.388699</td>\n",
       "      <td>-0.846545</td>\n",
       "      <td>-11.265906</td>\n",
       "      <td>8</td>\n",
       "      <td>#70EC11</td>\n",
       "    </tr>\n",
       "    <tr>\n",
       "      <th>1</th>\n",
       "      <td>3.182832</td>\n",
       "      <td>8.437605</td>\n",
       "      <td>-3.450348</td>\n",
       "      <td>-4.149593</td>\n",
       "      <td>8</td>\n",
       "      <td>#70EC11</td>\n",
       "    </tr>\n",
       "    <tr>\n",
       "      <th>2</th>\n",
       "      <td>6.842889</td>\n",
       "      <td>7.328386</td>\n",
       "      <td>-8.798013</td>\n",
       "      <td>4.660034</td>\n",
       "      <td>6</td>\n",
       "      <td>#626C18</td>\n",
       "    </tr>\n",
       "    <tr>\n",
       "      <th>3</th>\n",
       "      <td>8.338409</td>\n",
       "      <td>9.919741</td>\n",
       "      <td>1.777348</td>\n",
       "      <td>-4.042747</td>\n",
       "      <td>8</td>\n",
       "      <td>#70EC11</td>\n",
       "    </tr>\n",
       "    <tr>\n",
       "      <th>4</th>\n",
       "      <td>7.442799</td>\n",
       "      <td>9.996269</td>\n",
       "      <td>3.689503</td>\n",
       "      <td>-10.905416</td>\n",
       "      <td>6</td>\n",
       "      <td>#626C18</td>\n",
       "    </tr>\n",
       "  </tbody>\n",
       "</table>\n",
       "</div>"
      ],
      "text/plain": [
       "     x_umap    y_umap    x_tsne     y_tsne  topic    color\n",
       "0  7.631234  8.388699 -0.846545 -11.265906      8  #70EC11\n",
       "1  3.182832  8.437605 -3.450348  -4.149593      8  #70EC11\n",
       "2  6.842889  7.328386 -8.798013   4.660034      6  #626C18\n",
       "3  8.338409  9.919741  1.777348  -4.042747      8  #70EC11\n",
       "4  7.442799  9.996269  3.689503 -10.905416      6  #626C18"
      ]
     },
     "execution_count": 120,
     "metadata": {},
     "output_type": "execute_result"
    }
   ],
   "source": [
    "source.head()"
   ]
  },
  {
   "cell_type": "code",
   "execution_count": 121,
   "id": "918a49be-554b-49ee-884b-6b90edc96431",
   "metadata": {},
   "outputs": [
    {
     "data": {
      "image/png": "[encoded data removed]",
      "text/plain": [
       "<Figure size 720x720 with 1 Axes>"
      ]
     },
     "metadata": {
      "needs_background": "light"
     },
     "output_type": "display_data"
    }
   ],
   "source": [
    "import matplotlib.pyplot as plt\n",
    "fig, ax = plt.subplots(figsize=(10, 10))\n",
    "for n, color in enumerate(color_map.values()):\n",
    "    \n",
    "    data_vis = source[source['color']==color].copy() ## данные только с этим цветом\n",
    "    \n",
    "    ax.scatter(data_vis['x_tsne'], \n",
    "               data_vis['y_tsne'], \n",
    "               c=color, \n",
    "               label=f'Topic: {n}', \n",
    "               alpha=0.3, \n",
    "               edgecolors='none')\n",
    "\n",
    "ax.legend()\n",
    "ax.grid(True)\n",
    "\n",
    "plt.show()"
   ]
  },
  {
   "cell_type": "code",
   "execution_count": 125,
   "id": "2f539f48-79e3-42e7-b03e-cbe9885b2dae",
   "metadata": {},
   "outputs": [
    {
     "data": {
      "image/png": "[encoded data removed]",
      "text/plain": [
       "<Figure size 720x720 with 1 Axes>"
      ]
     },
     "metadata": {
      "needs_background": "light"
     },
     "output_type": "display_data"
    }
   ],
   "source": [
    "import matplotlib.pyplot as plt\n",
    "fig, ax = plt.subplots(figsize=(10, 10))\n",
    "for n, color in enumerate(color_map.values()):\n",
    "    \n",
    "    data_vis = source[source['color']==color].copy() ## данные только с этим цветом\n",
    "    x = data_vis.x_umap.mean()\n",
    "    y = data_vis.y_umap.mean()\n",
    "    s = data_vis.shape[0]\n",
    "    ax.scatter(x, \n",
    "               y, \n",
    "               c=color, \n",
    "               label=f'Topic: {n}',\n",
    "               s=s*40,\n",
    "               alpha=0.7, \n",
    "               edgecolors='none')\n",
    "\n",
    "#ax.legend(loc='lower left', prop={'size': 10}, fontsize=20)\n",
    "lgnd = plt.legend(loc=\"upper left\", scatterpoints=1, fontsize=10)\n",
    "for leg in range(NUM_TOPICS):\n",
    "    lgnd.legendHandles[leg]._sizes = [100]\n",
    "\n",
    "#ax.grid(True)\n",
    "\n",
    "plt.show()"
   ]
  },
  {
   "cell_type": "code",
   "execution_count": 123,
   "id": "60423bf8-9eb9-48cb-81d1-cd02263eebe7",
   "metadata": {},
   "outputs": [
    {
     "name": "stdout",
     "output_type": "stream",
     "text": [
      "\n",
      "Topic 0: [('tikets ru', 1.3799917918084799), ('компания аэрофлот', 1.1061695929159212), ('москва ираклион', 1.103993433446784), ('ираклион москва', 1.103993433446784), ('su555rasqag 202103050528', 1.103993433446784), ('tickets ru', 0.829620531247048), ('su1199 москва', 0.8279950750850882), ('бронирование su555rasqag', 0.8279950750850882), ('москва казань', 0.8279950750850882), ('москва su2127', 0.8279950750850882)]\n",
      "\n",
      "Topic 1: [('февраль 2021', 1.8222064646351845), ('12 февраль', 0.8965315542701194), ('январь 2021', 0.6057660609653494), ('центр apple', 0.5980563472690688), ('21 день', 0.5972467302422739), ('15 февраль', 0.5955395875880973), ('23 январь', 0.5950791900122135), ('отправить москва', 0.5950791900122135), ('асц воронеж', 0.5950791900122135), ('аппарат снова', 0.5950791900122135)]\n",
      "\n",
      "Topic 2: [('краснодарский край', 2.4903063516232944), ('александр усольцев', 1.020605095320337), ('17 12', 0.8824944956749138), ('15 03', 0.6990059684414512), ('ваш ведомство', 0.6977533662909877), ('нижестоящие подразделение', 0.6963985216675412), ('прямой линия', 0.6963985216675412), ('подразделение ваш', 0.6963985216675412), ('президент россия', 0.6963985216675412), ('усольцев краснодарский', 0.6963985216675412)]\n",
      "\n",
      "Topic 3: [('условие труд', 3.8061011878268576), ('рабочий место', 1.1813084084901078), ('кемеровский область', 1.1100924318649181), ('федеральный закон', 0.9338220849122728), ('результат проведение', 0.6657427085259404), ('ст 26', 0.6641200428629044), ('11 2020', 0.4682100035663255), ('30 03', 0.45862147651531365), ('федеральный государственный', 0.23302997490050473), ('территориальный орган', 0.2328160724360182)]\n",
      "\n",
      "Topic 4: [('продажа продукт', 1.8723837152431808), ('пункт статья', 1.5845799378512924), ('гк рф', 1.5845276990826838), ('продукт питание', 1.5395577725948042), ('426 гк', 1.2069076575853064), ('администратор магазин', 1.1289324460581975), ('купля продажа', 0.823650846343885), ('административный ответственность', 0.7474628105958975), ('средство индивидуальный', 0.7451754318420645), ('индивидуальный защита', 0.7451754318420645)]\n",
      "\n",
      "Topic 5: [('решить вопрос', 0.5015826380349017), ('товар вернуть', 0.4888343240547262), ('подписать договор', 0.48583478226532034), ('пытаться решить', 0.4778005181013105), ('номер счёт', 0.47766791734962966), ('день решить', 0.47735662165098375), ('условие нужный', 0.4751122402585765), ('ни слово', 0.47489458576869537), ('сменить провайдер', 0.47473154884390656), ('группа товар', 0.4746887229265574)]\n",
      "\n",
      "Topic 6: [('санитарный врач', 1.2687463518628357), ('государственный санитарный', 1.103688594707567), ('главный государственный', 1.0594836293910086), ('постановление главный', 0.9562346264499892), ('covid 19', 0.8538815992150017), ('врач рф', 0.8094669040560477), ('07 2020', 0.5696334747997257), ('россия гражданин', 0.5152197374136758), ('распространение covid', 0.4900533581496179), ('иностранный гражданин', 0.46861731303693316)]\n",
      "\n",
      "Topic 7: [('отмена заказ', 1.2118390321743007), ('технический сбой', 0.9091188017825897), ('стоимость товар', 0.688592170483349), ('оформление заказ', 0.5449315050123325), ('яндекс маркет', 0.5419037217674756), ('заказ отменить', 0.5299368025169543), ('цена товар', 0.477731124051293), ('оплатить заказ', 0.471386236308878), ('заказ сделать', 0.4623086196802679), ('товар увеличиться', 0.45077154703344274)]\n",
      "\n",
      "Topic 8: [('возврат средство', 1.0312883866514282), ('заявление возврат', 0.9834993032282471), ('получение товар', 0.6364729508906058), ('иметь право', 0.630063953990517), ('подача заявление', 0.5606942197138929), ('пункт выдача', 0.5407620432510224), ('заказной письмо', 0.5292293473728231), ('постановление правительство', 0.5210237206195062), ('течение день', 0.4766108415643965), ('тысяча рубль', 0.4633870855031312)]\n",
      "\n",
      "Topic 9: [('жилой дом', 1.6319082433006384), ('3684 21', 0.7205502649803103), ('санпин 3684', 0.7116377343721155), ('земельный участок', 0.697636237601037), ('воспитание обучение', 0.6959128539470532), ('организация воспитание', 0.6849143780465312), ('оздоровление ребёнок', 0.6849143780465312), ('отдых оздоровление', 0.6849143780465312), ('обучение отдых', 0.6849143780465312), ('ребёнок молодёжь', 0.6849143780465312)]\n"
     ]
    }
   ],
   "source": [
    "print_topics(nmf, vectorizer)"
   ]
  },
  {
   "cell_type": "code",
   "execution_count": null,
   "id": "a55de973-df51-4edc-9de2-e34a82b97d7d",
   "metadata": {},
   "outputs": [],
   "source": []
  }
 ],
 "metadata": {
  "kernelspec": {
   "display_name": "Python 3",
   "language": "python",
   "name": "python3"
  },
  "language_info": {
   "codemirror_mode": {
    "name": "ipython",
    "version": 3
   },
   "file_extension": ".py",
   "mimetype": "text/x-python",
   "name": "python",
   "nbconvert_exporter": "python",
   "pygments_lexer": "ipython3",
   "version": "3.7.9"
  }
 },
 "nbformat": 4,
 "nbformat_minor": 5
}
